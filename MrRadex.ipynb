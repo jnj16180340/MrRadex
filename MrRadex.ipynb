{
 "cells": [
  {
   "cell_type": "code",
   "execution_count": 117,
   "metadata": {},
   "outputs": [],
   "source": [
    "import serial\n",
    "import struct\n",
    "from dataclasses import dataclass, asdict"
   ]
  },
  {
   "cell_type": "code",
   "execution_count": 2,
   "metadata": {},
   "outputs": [],
   "source": [
    "PORT = '/dev/ttyACM0'"
   ]
  },
  {
   "cell_type": "code",
   "execution_count": 3,
   "metadata": {},
   "outputs": [],
   "source": [
    "serial_params = dict(\n",
    "    port = PORT,\n",
    "    baudrate = 9600,\n",
    "    bytesize = serial.EIGHTBITS,\n",
    "    stopbits = serial.STOPBITS_ONE,\n",
    "    timeout = 0.5,\n",
    ")"
   ]
  },
  {
   "cell_type": "code",
   "execution_count": 83,
   "metadata": {},
   "outputs": [],
   "source": [
    "def checksum_bytes(ba):\n",
    "    ushorts = [i[0] for i in struct.iter_unpack('<H', ba)]\n",
    "    cs = (0xffff - sum(ushorts)) % 0xffff\n",
    "    return struct.pack('<H', cs)"
   ]
  },
  {
   "cell_type": "code",
   "execution_count": 292,
   "metadata": {},
   "outputs": [],
   "source": [
    "class ChecksumError(Exception):\n",
    "    pass"
   ]
  },
  {
   "cell_type": "code",
   "execution_count": 313,
   "metadata": {},
   "outputs": [],
   "source": [
    "@dataclass\n",
    "class RequestPing:\n",
    "    packet_number: int\n",
    "    prefix: int = 0xff7b\n",
    "    command: int = 0x0020\n",
    "    extension_length: int = 0x0000\n",
    "    \n",
    "    def __iter__(self):\n",
    "        for i in asdict(self).items():\n",
    "            yield i\n",
    "        \n",
    "    def __bytes__(self):\n",
    "        base_command = struct.pack('<HHHBxxx', self.prefix,self.command,self.extension_length,self.packet_number)\n",
    "        base_checksum = checksum_bytes(base_command)\n",
    "        return base_command + base_checksum"
   ]
  },
  {
   "cell_type": "code",
   "execution_count": 317,
   "metadata": {},
   "outputs": [],
   "source": [
    "@dataclass\n",
    "class ResponsePing:\n",
    "    # Base\n",
    "    packet_number: int = None # whatever\n",
    "    prefix: int = None # 0x7b\n",
    "    command: int = None # 0x0020\n",
    "    extension_length: int = None # 0x01\n",
    "    \n",
    "    cs1: int = None\n",
    "    \n",
    "    def parse_bytes(self, res):\n",
    "        base_command = res[:12]\n",
    "        if not checksum_bytes(base_command[:-2]) == base_command[-2:]:\n",
    "            raise ChecksumError(\"Basecommand checksum failed\", res)\n",
    "            \n",
    "        (\n",
    "            self.prefix,\n",
    "            self.command,\n",
    "            self.extension_length,\n",
    "            self.packet_number,\n",
    "            self.cs1,\n",
    "        ) = struct.unpack(\"<HHHBxxxH\", res)\n",
    "        return self\n",
    "        \n",
    "    def __iter__(self):\n",
    "        for i in asdict(self).items():\n",
    "            yield i\n",
    "        "
   ]
  },
  {
   "cell_type": "code",
   "execution_count": 273,
   "metadata": {},
   "outputs": [],
   "source": [
    "@dataclass\n",
    "class RequestSerial:\n",
    "    packet_number: int\n",
    "    prefix: int = 0xff7b\n",
    "    command: int = 0x0020\n",
    "    extension_length: int = 0x0006\n",
    "    subcommand: int = 0x0001\n",
    "    reserved1: int = 0x000c\n",
    "    \n",
    "    def __iter__(self):\n",
    "        for i in asdict(self).items():\n",
    "            yield i\n",
    "        \n",
    "    def __bytes__(self):\n",
    "        base_command = struct.pack('<HHHBxxx', self.prefix,self.command,self.extension_length,self.packet_number)\n",
    "        base_checksum = checksum_bytes(base_command)\n",
    "        sub_command = struct.pack('<HH', self.subcommand, self.reserved1)\n",
    "        sub_checksum = checksum_bytes(sub_command)\n",
    "        \n",
    "        return base_command + base_checksum + sub_command + sub_checksum"
   ]
  },
  {
   "cell_type": "code",
   "execution_count": 302,
   "metadata": {},
   "outputs": [],
   "source": [
    "# e.g.\n",
    "# 7AFF20801E00230000002380010000001400000016A40000CE130000E407090F000F480328000000A91E\n",
    "\n",
    "@dataclass\n",
    "class ResponseSerial:\n",
    "    # Base\n",
    "    packet_number: int = None # whatever\n",
    "    prefix: int = None # 0x7b\n",
    "    command: int = None # 0x0020\n",
    "    extension_length: int = None # 0x01\n",
    "    \n",
    "    # Sub\n",
    "    subcommand: int = None # 0x0001\n",
    "    SN: int = None\n",
    "    YEAR: int = None\n",
    "    MONTH: int = None\n",
    "    DAY: int = None\n",
    "    MAJ: int = None\n",
    "    MIN: int = None\n",
    "        \n",
    "    cs1: int = None\n",
    "    cs2: int = None\n",
    "        \n",
    "    @property\n",
    "    def VERSION(self):\n",
    "        return f\"{self.MAJ}.{self.MIN}\"\n",
    "\n",
    "    @property\n",
    "    def SERIAL(self):\n",
    "        return f\"{self.SN:05}-{self.YEAR:02d}{self.MONTH}{self.DAY}\"\n",
    "    \n",
    "    def parse_bytes(self, res):\n",
    "        base_command = res[:12]\n",
    "        if not checksum_bytes(base_command[:-2]) == base_command[-2:]:\n",
    "            raise ChecksumError(\"Basecommand checksum failed\", res)\n",
    "\n",
    "        sub_command = res[12:]\n",
    "        if not checksum_bytes(sub_command[:-2]) == sub_command[-2:]:\n",
    "            raise ChecksumError(\"Subcommand checksum failed\", res)\n",
    "            \n",
    "        (\n",
    "            self.prefix,\n",
    "            self.command,\n",
    "            self.extension_length,\n",
    "            self.packet_number,\n",
    "            self.cs1,\n",
    "            self.subcommand,\n",
    "            self.SN,\n",
    "            self.YEAR,\n",
    "            self.MONTH,\n",
    "            self.DAY,\n",
    "            self.MAJ,\n",
    "            self.MIN,\n",
    "            self.cs2\n",
    "        ) = struct.unpack(\"<HHHBxxxH    H 10x H 2x HBB BB 6x H\", res)\n",
    "        return self\n",
    "        \n",
    "    def __iter__(self):\n",
    "        for i in asdict(self).items():\n",
    "            yield i\n",
    "        "
   ]
  },
  {
   "cell_type": "code",
   "execution_count": 307,
   "metadata": {},
   "outputs": [],
   "source": [
    "with serial.Serial(**serial_params) as port:\n",
    "    port.write(bytes(RequestSerial(0x69)))\n",
    "    res = port.read(128)"
   ]
  },
  {
   "cell_type": "code",
   "execution_count": 321,
   "metadata": {},
   "outputs": [
    {
     "name": "stdout",
     "output_type": "stream",
     "text": [
      "ResponsePing(packet_number=1, prefix=65402, command=32800, extension_length=0, cs1=32867)\n",
      "ResponseSerial(packet_number=2, prefix=65402, command=32800, extension_length=30, subcommand=1, SN=5070, YEAR=2020, MONTH=9, DAY=15, MAJ=0, MIN=15, cs1=32836, cs2=7849)\n"
     ]
    }
   ],
   "source": [
    "# Possibly we want to parse the BaseCommand portion, get the extension length,\n",
    "# Then read the subcommand based on that length.\n",
    "with serial.Serial(**serial_params) as port:\n",
    "    port.write(bytes(RequestPing(1)))\n",
    "    ping_response = ResponsePing().parse_bytes(port.read(64))\n",
    "    print(ping_response)\n",
    "    \n",
    "    port.write(bytes(RequestSerial(2)))\n",
    "    serial_response = ResponseSerial().parse_bytes(port.read(64))\n",
    "    print(serial_response)"
   ]
  },
  {
   "cell_type": "code",
   "execution_count": 309,
   "metadata": {},
   "outputs": [
    {
     "data": {
      "text/plain": [
       "'0.15'"
      ]
     },
     "execution_count": 309,
     "metadata": {},
     "output_type": "execute_result"
    }
   ],
   "source": [
    "r.VERSION"
   ]
  },
  {
   "cell_type": "code",
   "execution_count": null,
   "metadata": {},
   "outputs": [],
   "source": []
  }
 ],
 "metadata": {
  "kernelspec": {
   "display_name": "Python 3",
   "language": "python",
   "name": "python3"
  },
  "language_info": {
   "codemirror_mode": {
    "name": "ipython",
    "version": 3
   },
   "file_extension": ".py",
   "mimetype": "text/x-python",
   "name": "python",
   "nbconvert_exporter": "python",
   "pygments_lexer": "ipython3",
   "version": "3.8.6"
  }
 },
 "nbformat": 4,
 "nbformat_minor": 4
}
