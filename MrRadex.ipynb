{
 "cells": [
  {
   "cell_type": "code",
   "execution_count": 117,
   "metadata": {},
   "outputs": [],
   "source": [
    "import serial\n",
    "import struct\n",
    "from dataclasses import dataclass, asdict"
   ]
  },
  {
   "cell_type": "code",
   "execution_count": 2,
   "metadata": {},
   "outputs": [],
   "source": [
    "PORT = '/dev/ttyACM0'"
   ]
  },
  {
   "cell_type": "code",
   "execution_count": 3,
   "metadata": {},
   "outputs": [],
   "source": [
    "serial_params = dict(\n",
    "    port = PORT,\n",
    "    baudrate = 9600,\n",
    "    bytesize = serial.EIGHTBITS,\n",
    "    stopbits = serial.STOPBITS_ONE,\n",
    "    timeout = 0.5,\n",
    ")"
   ]
  },
  {
   "cell_type": "code",
   "execution_count": 83,
   "metadata": {},
   "outputs": [],
   "source": [
    "def checksum_bytes(ba):\n",
    "    ushorts = [i[0] for i in struct.iter_unpack('<H', ba)]\n",
    "    cs = (0xffff - sum(ushorts)) % 0xffff\n",
    "    return struct.pack('<H', cs)"
   ]
  },
  {
   "cell_type": "code",
   "execution_count": 292,
   "metadata": {},
   "outputs": [],
   "source": [
    "class ChecksumError(Exception):\n",
    "    pass"
   ]
  },
  {
   "cell_type": "code",
   "execution_count": 313,
   "metadata": {},
   "outputs": [],
   "source": [
    "@dataclass\n",
    "class RequestPing:\n",
    "    # This might actually be incorrect?\n",
    "    # Looks like 7B FF 00 00 00 00 C7 01 00 00 BC FE\n",
    "    # But it still responds so...\n",
    "    packet_number: int\n",
    "    prefix: int = 0xff7b\n",
    "    command: int = 0x0020\n",
    "    extension_length: int = 0x0000\n",
    "    \n",
    "    def __iter__(self):\n",
    "        for i in asdict(self).items():\n",
    "            yield i\n",
    "        \n",
    "    def __bytes__(self):\n",
    "        base_command = struct.pack('<HHHBxxx', self.prefix,self.command,self.extension_length,self.packet_number)\n",
    "        base_checksum = checksum_bytes(base_command)\n",
    "        return base_command + base_checksum"
   ]
  },
  {
   "cell_type": "code",
   "execution_count": 317,
   "metadata": {},
   "outputs": [],
   "source": [
    "@dataclass\n",
    "class ResponsePing:\n",
    "    # Base\n",
    "    packet_number: int = None # whatever\n",
    "    prefix: int = None # 0x7b\n",
    "    command: int = None # 0x8020\n",
    "    extension_length: int = None # 0x01\n",
    "    \n",
    "    cs1: int = None\n",
    "    \n",
    "    def parse_bytes(self, res):\n",
    "        base_command = res[:12]\n",
    "        if not checksum_bytes(base_command[:-2]) == base_command[-2:]:\n",
    "            raise ChecksumError(\"Basecommand checksum failed\", res)\n",
    "            \n",
    "        (\n",
    "            self.prefix,\n",
    "            self.command,\n",
    "            self.extension_length,\n",
    "            self.packet_number,\n",
    "            self.cs1,\n",
    "        ) = struct.unpack(\"<HHHBxxxH\", res)\n",
    "        return self\n",
    "        \n",
    "    def __iter__(self):\n",
    "        for i in asdict(self).items():\n",
    "            yield i\n",
    "        "
   ]
  },
  {
   "cell_type": "code",
   "execution_count": 273,
   "metadata": {},
   "outputs": [],
   "source": [
    "@dataclass\n",
    "class RequestSerial:\n",
    "    packet_number: int\n",
    "    prefix: int = 0xff7b\n",
    "    command: int = 0x0020\n",
    "    extension_length: int = 0x0006\n",
    "    subcommand: int = 0x0001\n",
    "    reserved1: int = 0x000c\n",
    "    \n",
    "    def __iter__(self):\n",
    "        for i in asdict(self).items():\n",
    "            yield i\n",
    "        \n",
    "    def __bytes__(self):\n",
    "        base_command = struct.pack('<HHHBxxx', self.prefix,self.command,self.extension_length,self.packet_number)\n",
    "        base_checksum = checksum_bytes(base_command)\n",
    "        sub_command = struct.pack('<HH', self.subcommand, self.reserved1)\n",
    "        sub_checksum = checksum_bytes(sub_command)\n",
    "        \n",
    "        return base_command + base_checksum + sub_command + sub_checksum"
   ]
  },
  {
   "cell_type": "code",
   "execution_count": 370,
   "metadata": {},
   "outputs": [],
   "source": [
    "# e.g.\n",
    "# 7AFF20801E00230000002380010000001400000016A40000CE130000E407090F000F480328000000A91E\n",
    "# NB - Command becomes 0x8020 from originating 0x0020\n",
    "# Response header is ALWAYS 0x8020?\n",
    "\n",
    "@dataclass\n",
    "class ResponseSerial:\n",
    "    # Base\n",
    "    packet_number: int = None # whatever\n",
    "    prefix: int = None # 0x7b\n",
    "    command: int = None # 0x8020\n",
    "    extension_length: int = None # 0x01\n",
    "    \n",
    "    # Sub\n",
    "    subcommand: int = None # 0x0001\n",
    "    SN: int = None\n",
    "    YEAR: int = None\n",
    "    MONTH: int = None\n",
    "    DAY: int = None\n",
    "    MAJ: int = None\n",
    "    MIN: int = None\n",
    "    SN2: int = None\n",
    "        \n",
    "    cs1: int = None\n",
    "    cs2: int = None\n",
    "        \n",
    "    @property\n",
    "    def VERSION(self):\n",
    "        return f\"{self.MAJ}.{self.MIN}\"\n",
    "\n",
    "    @property\n",
    "    def SERIAL(self):\n",
    "        return f\"{self.DAY:02d}{self.MONTH:02d}{self.YEAR % 1000:2d}-{self.SN2:04}-{self.SN:06}\"\n",
    "    \n",
    "    def parse_bytes(self, res):\n",
    "        base_command = res[:12]\n",
    "        if not checksum_bytes(base_command[:-2]) == base_command[-2:]:\n",
    "            raise ChecksumError(\"Basecommand checksum failed\", res)\n",
    "\n",
    "        sub_command = res[12:]\n",
    "        if not checksum_bytes(sub_command[:-2]) == sub_command[-2:]:\n",
    "            raise ChecksumError(\"Subcommand checksum failed\", res)\n",
    "            \n",
    "        (\n",
    "            self.prefix,\n",
    "            self.command,\n",
    "            self.extension_length,\n",
    "            self.packet_number,\n",
    "            self.cs1,\n",
    "            self.subcommand,\n",
    "            self.SN,\n",
    "            self.YEAR,\n",
    "            self.MONTH,\n",
    "            self.DAY,\n",
    "            self.MAJ,\n",
    "            self.MIN,\n",
    "            self.SN2,\n",
    "            self.cs2\n",
    "        ) = struct.unpack(\"<HHHBxxxH    H 10x H 2x HBB BB H 4x H\", res)\n",
    "        return self\n",
    "        \n",
    "    def __iter__(self):\n",
    "        for i in asdict(self).items():\n",
    "            yield i\n",
    "        "
   ]
  },
  {
   "cell_type": "code",
   "execution_count": 384,
   "metadata": {},
   "outputs": [],
   "source": [
    "@dataclass\n",
    "class RequestValues:\n",
    "    packet_number: int\n",
    "    prefix: int = 0xff7b\n",
    "    command: int = 0x0020\n",
    "    extension_length: int = 0x0006\n",
    "    subcommand: int = 0x0804\n",
    "    reserved1: int = 0x000c\n",
    "    \n",
    "    def __iter__(self):\n",
    "        for i in asdict(self).items():\n",
    "            yield i\n",
    "        \n",
    "    def __bytes__(self):\n",
    "        base_command = struct.pack('<HHHBxxx', self.prefix,self.command,self.extension_length,self.packet_number)\n",
    "        base_checksum = checksum_bytes(base_command)\n",
    "        sub_command = struct.pack('<HH', self.subcommand, self.reserved1)\n",
    "        sub_checksum = checksum_bytes(sub_command)\n",
    "        \n",
    "        return base_command + base_checksum + sub_command + sub_checksum"
   ]
  },
  {
   "cell_type": "code",
   "execution_count": 450,
   "metadata": {},
   "outputs": [],
   "source": [
    "@dataclass\n",
    "class RequestU1:\n",
    "    packet_number: int\n",
    "    prefix: int = 0xff7b\n",
    "    command: int = 0x0020\n",
    "    extension_length: int = 0x0006\n",
    "    subcommand: int = 0x000b\n",
    "    reserved1: int = 0x000c\n",
    "    \n",
    "    def __iter__(self):\n",
    "        for i in asdict(self).items():\n",
    "            yield i\n",
    "        \n",
    "    def __bytes__(self):\n",
    "        base_command = struct.pack('<HHHBxxx', self.prefix,self.command,self.extension_length,self.packet_number)\n",
    "        base_checksum = checksum_bytes(base_command)\n",
    "        sub_command = struct.pack('<HH', self.subcommand, self.reserved1)\n",
    "        sub_checksum = checksum_bytes(sub_command)\n",
    "        \n",
    "        return base_command + base_checksum + sub_command + sub_checksum"
   ]
  },
  {
   "cell_type": "code",
   "execution_count": 475,
   "metadata": {},
   "outputs": [],
   "source": [
    "@dataclass\n",
    "class RequestU2:\n",
    "    packet_number: int\n",
    "    prefix: int = 0xff7b\n",
    "    command: int = 0x0020\n",
    "    extension_length: int = 0x0006\n",
    "    subcommand: int = 0x0007\n",
    "    reserved1: int = 0x000b\n",
    "    \n",
    "    def __iter__(self):\n",
    "        for i in asdict(self).items():\n",
    "            yield i\n",
    "        \n",
    "    def __bytes__(self):\n",
    "        base_command = struct.pack('<HHHBxxx', self.prefix,self.command,self.extension_length,self.packet_number)\n",
    "        base_checksum = checksum_bytes(base_command)\n",
    "        sub_command = struct.pack('<HH', self.subcommand, self.reserved1)\n",
    "        sub_checksum = checksum_bytes(sub_command)\n",
    "        \n",
    "        return base_command + base_checksum + sub_command + sub_checksum"
   ]
  },
  {
   "cell_type": "code",
   "execution_count": 465,
   "metadata": {},
   "outputs": [],
   "source": [
    "with serial.Serial(**serial_params) as port:\n",
    "    port.write(bytes(RequestSerial(0x69)))\n",
    "    res = port.read(128)"
   ]
  },
  {
   "cell_type": "code",
   "execution_count": 586,
   "metadata": {
    "scrolled": true
   },
   "outputs": [
    {
     "name": "stdout",
     "output_type": "stream",
     "text": [
      "ResponsePing(packet_number=1, prefix=65402, command=32800, extension_length=0, cs1=32867)\n",
      "ResponseSerial(packet_number=2, prefix=65402, command=32800, extension_length=30, subcommand=1, SN=5070, YEAR=2020, MONTH=9, DAY=15, MAJ=0, MIN=15, SN2=840, cs1=32836, cs2=7849)\n"
     ]
    }
   ],
   "source": [
    "# Possibly we want to parse the BaseCommand portion, get the extension length,\n",
    "# Then read the subcommand based on that length.\n",
    "with serial.Serial(**serial_params) as port:\n",
    "    port.write(bytes(RequestPing(1)))\n",
    "    ping_response = ResponsePing().parse_bytes(port.read(64))\n",
    "    print(ping_response)\n",
    "    \n",
    "    port.write(bytes(RequestSerial(2)))\n",
    "    res = port.read(64)\n",
    "    serial_response = ResponseSerial().parse_bytes(res)\n",
    "    print(serial_response)\n",
    "    \n",
    "    port.write(bytes(RequestValues(0x2b)))\n",
    "    res = port.read(128)"
   ]
  },
  {
   "cell_type": "code",
   "execution_count": 587,
   "metadata": {},
   "outputs": [
    {
     "data": {
      "text/plain": [
       "'7aff20803a002b000000ff7f04080000300000000000020050460e48191991437ef6844128c63f4248615f8f9900000000001c42d024974386309d4319199143410d00008252'"
      ]
     },
     "execution_count": 587,
     "metadata": {},
     "output_type": "execute_result"
    }
   ],
   "source": [
    "res.hex()"
   ]
  },
  {
   "cell_type": "code",
   "execution_count": 563,
   "metadata": {},
   "outputs": [
    {
     "data": {
      "text/plain": [
       "'7aff20800e002b0000002b80070000005077639099000000abf7'"
      ]
     },
     "execution_count": 563,
     "metadata": {},
     "output_type": "execute_result"
    }
   ],
   "source": [
    "res.hex()"
   ]
  },
  {
   "cell_type": "code",
   "execution_count": 511,
   "metadata": {},
   "outputs": [
    {
     "data": {
      "text/plain": [
       "17309"
      ]
     },
     "execution_count": 511,
     "metadata": {},
     "output_type": "execute_result"
    }
   ],
   "source": [
    "0x"
   ]
  },
  {
   "cell_type": "code",
   "execution_count": 528,
   "metadata": {},
   "outputs": [
    {
     "data": {
      "text/plain": [
       "'c6'"
      ]
     },
     "execution_count": 528,
     "metadata": {},
     "output_type": "execute_result"
    }
   ],
   "source": [
    "0x41,0x84\n",
    "f\"{198:x}\""
   ]
  },
  {
   "cell_type": "markdown",
   "metadata": {},
   "source": [
    "```\n",
    "e3 8f 40 46 31 3e\n",
    "e0 ee 40 b0 55 54\n",
    "9e 7b 41 58 26 3d\n",
    "56 7f 41 78 76 3b\n",
    "\n",
    "95 E8 40 81 F5 1E\n",
    "\n",
    "\n",
    "BF F9 40 BE 9E 1B\n",
    "9A F8 40 C2 6B 1B\n",
    "BF F9 40 BA DA 1B\n",
    "05 F0 40 AB A3 1C\n",
    "```"
   ]
  },
  {
   "cell_type": "code",
   "execution_count": 443,
   "metadata": {},
   "outputs": [
    {
     "name": "stdout",
     "output_type": "stream",
     "text": [
      "(36835, 17984, 15921)\n",
      "(61152, 45120, 21589)\n",
      "(31646, 22593, 15654)\n",
      "(32598, 30785, 15222)\n",
      "(59541, 33088, 7925)\n"
     ]
    }
   ],
   "source": [
    "print(struct.unpack('<HHH',b'\\xe3\\x8f\\x40\\x46\\x31\\x3e'))\n",
    "print(struct.unpack('<HHH',b'\\xe0\\xee\\x40\\xb0\\x55\\x54'))\n",
    "print(struct.unpack('<HHH',b'\\x9e\\x7b\\x41\\x58\\x26\\x3d'))\n",
    "print(struct.unpack('<HHH',b'\\x56\\x7f\\x41\\x78\\x76\\x3b'))\n",
    "print(struct.unpack('<HHH',b'\\x95\\xE8\\x40\\x81\\xF5\\x1E'))"
   ]
  },
  {
   "cell_type": "code",
   "execution_count": 444,
   "metadata": {},
   "outputs": [
    {
     "name": "stdout",
     "output_type": "stream",
     "text": [
      "(227, 143, 64, 70, 49, 62)\n",
      "(224, 238, 64, 176, 85, 84)\n",
      "(158, 123, 65, 88, 38, 61)\n",
      "(86, 127, 65, 120, 118, 59)\n",
      "(149, 232, 64, 129, 245, 30)\n"
     ]
    }
   ],
   "source": [
    "print(struct.unpack('<BBBBBB',b'\\xe3\\x8f\\x40\\x46\\x31\\x3e'))\n",
    "print(struct.unpack('<BBBBBB',b'\\xe0\\xee\\x40\\xb0\\x55\\x54'))\n",
    "print(struct.unpack('<BBBBBB',b'\\x9e\\x7b\\x41\\x58\\x26\\x3d'))\n",
    "print(struct.unpack('<BBBBBB',b'\\x56\\x7f\\x41\\x78\\x76\\x3b'))\n",
    "print(struct.unpack('<BBBBBB',b'\\x95\\xE8\\x40\\x81\\xF5\\x1E'))"
   ]
  },
  {
   "cell_type": "code",
   "execution_count": 442,
   "metadata": {},
   "outputs": [
    {
     "name": "stdout",
     "output_type": "stream",
     "text": [
      "(8936,)\n",
      "(8660,)\n",
      "(7086,)\n",
      "(6983,)\n",
      "(1670,)\n",
      "(1665,)\n",
      "(1660,)\n",
      "(1420,)\n",
      "(14363,)\n"
     ]
    }
   ],
   "source": [
    "print(struct.unpack('<H',b'\\xe8\\x22'))\n",
    "print(struct.unpack('<H',b'\\xd4\\x21'))\n",
    "print(struct.unpack('<H',b'\\xae\\x1b'))\n",
    "print(struct.unpack('<H',b'\\x47\\x1b'))\n",
    "print(struct.unpack('<H',b'\\x86\\x06'))\n",
    "\n",
    "print(struct.unpack('<H',b'\\x1B\\x38'))"
   ]
  },
  {
   "cell_type": "code",
   "execution_count": 445,
   "metadata": {},
   "outputs": [
    {
     "data": {
      "text/plain": [
       "(11652, 18242)"
      ]
     },
     "execution_count": 445,
     "metadata": {},
     "output_type": "execute_result"
    }
   ],
   "source": [
    "0x2d84, 0x4742"
   ]
  },
  {
   "cell_type": "code",
   "execution_count": 446,
   "metadata": {},
   "outputs": [],
   "source": [
    "def psu(_struct, _bytes):\n",
    "    print(struct.unpack(_struct,_bytes))"
   ]
  },
  {
   "cell_type": "code",
   "execution_count": 448,
   "metadata": {},
   "outputs": [
    {
     "name": "stdout",
     "output_type": "stream",
     "text": [
      "(48, 168, 176, 145, 153)\n",
      "(208, 241, 95, 143, 153)\n",
      "(72, 222, 95, 143, 153)\n"
     ]
    }
   ],
   "source": [
    "psu('<BBBBB',b'\\x30\\xA8\\xB0\\x91\\x99')\n",
    "psu('<BBBBB',b'\\xD0\\xF1\\x5F\\x8F\\x99')\n",
    "psu('<BBBBB',b'\\x48\\xDE\\x5F\\x8F\\x99')"
   ]
  },
  {
   "cell_type": "code",
   "execution_count": 449,
   "metadata": {},
   "outputs": [
    {
     "name": "stdout",
     "output_type": "stream",
     "text": [
      "(43056, 176, 145, 153)\n",
      "(61904, 95, 143, 153)\n",
      "(56904, 95, 143, 153)\n"
     ]
    }
   ],
   "source": [
    "psu('<HBBB',b'\\x30\\xA8\\xB0\\x91\\x99')\n",
    "psu('<HBBB',b'\\xD0\\xF1\\x5F\\x8F\\x99')\n",
    "psu('<HBBB',b'\\x48\\xDE\\x5F\\x8F\\x99')"
   ]
  },
  {
   "cell_type": "markdown",
   "metadata": {},
   "source": [
    "```\n",
    "d4 e3 8f 40 46 31 3e 42 48 61 5f 8f 99\n",
    "aa e0 ee 40 b0 55 54 42 48 61 5f 8f 99\n",
    "d0 9e 7b 41 58 26 3d 42 48 61 5f 8f 99\n",
    "fa 56 7f 41 78 76 3b 42 48 61 5f 8f 99\n",
    "EA BF F9 40 BE 9E 1B 42 A0 81 7F 8D 99\n",
    "F0 9A F8 40 C2 6B 1B 42 A0 81 7F 8D 99\n",
    "EA BF F9 40 BA DA 1B 42 A0 81 7F 8D 99\n",
    "A2 05 F0 40 AB A3 1C 42 A0 81 7F 8D 99\n",
    "4E 95 E8 40 81 F5 1E 42 48 61 5F 8F 99\n",
    "```"
   ]
  },
  {
   "cell_type": "code",
   "execution_count": 488,
   "metadata": {},
   "outputs": [
    {
     "name": "stdout",
     "output_type": "stream",
     "text": [
      "(212, 227, 143, 64, 70, 49, 62, 66, 72, 97, 95, 143, 153)\n",
      "(170, 224, 238, 64, 176, 85, 84, 66, 72, 97, 95, 143, 153)\n",
      "(208, 158, 123, 65, 88, 38, 61, 66, 72, 97, 95, 143, 153)\n",
      "(250, 86, 127, 65, 120, 118, 59, 66, 72, 97, 95, 143, 153)\n",
      "(234, 191, 249, 64, 190, 158, 27, 66, 160, 129, 127, 141, 153)\n",
      "(240, 154, 248, 64, 194, 107, 27, 66, 160, 129, 127, 141, 153)\n",
      "(234, 191, 249, 64, 186, 218, 27, 66, 160, 129, 127, 141, 153)\n",
      "(162, 5, 240, 64, 171, 163, 28, 66, 160, 129, 127, 141, 153)\n",
      "(78, 149, 232, 64, 129, 245, 30, 66, 72, 97, 95, 143, 153)\n"
     ]
    }
   ],
   "source": [
    "packs = [b'\\xd4\\xe3\\x8f\\x40\\x46\\x31\\x3e\\x42\\x48\\x61\\x5f\\x8f\\x99',\n",
    "b'\\xaa\\xe0\\xee\\x40\\xb0\\x55\\x54\\x42\\x48\\x61\\x5f\\x8f\\x99',\n",
    "b'\\xd0\\x9e\\x7b\\x41\\x58\\x26\\x3d\\x42\\x48\\x61\\x5f\\x8f\\x99',\n",
    "b'\\xfa\\x56\\x7f\\x41\\x78\\x76\\x3b\\x42\\x48\\x61\\x5f\\x8f\\x99',\n",
    "b'\\xEA\\xBF\\xF9\\x40\\xBE\\x9E\\x1B\\x42\\xA0\\x81\\x7F\\x8D\\x99', # R\n",
    "b'\\xF0\\x9A\\xF8\\x40\\xC2\\x6B\\x1B\\x42\\xA0\\x81\\x7F\\x8D\\x99', # R\n",
    "b'\\xEA\\xBF\\xF9\\x40\\xBA\\xDA\\x1B\\x42\\xA0\\x81\\x7F\\x8D\\x99', # R\n",
    "b'\\xA2\\x05\\xF0\\x40\\xAB\\xA3\\x1C\\x42\\xA0\\x81\\x7F\\x8D\\x99', # R\n",
    "b'\\x4E\\x95\\xE8\\x40\\x81\\xF5\\x1E\\x42\\x48\\x61\\x5F\\x8F\\x99']\n",
    "\n",
    "for p in packs:\n",
    "    psu('<13B',p)"
   ]
  },
  {
   "cell_type": "code",
   "execution_count": 489,
   "metadata": {},
   "outputs": [
    {
     "name": "stdout",
     "output_type": "stream",
     "text": [
      "(58324, 16527, 12614, 16958, 24904, 36703, 153)\n",
      "(57514, 16622, 21936, 16980, 24904, 36703, 153)\n",
      "(40656, 16763, 9816, 16957, 24904, 36703, 153)\n",
      "(22266, 16767, 30328, 16955, 24904, 36703, 153)\n",
      "(49130, 16633, 40638, 16923, 33184, 36223, 153)\n",
      "(39664, 16632, 27586, 16923, 33184, 36223, 153)\n",
      "(49130, 16633, 55994, 16923, 33184, 36223, 153)\n",
      "(1442, 16624, 41899, 16924, 33184, 36223, 153)\n",
      "(38222, 16616, 62849, 16926, 24904, 36703, 153)\n"
     ]
    }
   ],
   "source": [
    "for p in packs:\n",
    "    psu('<6HB',p)"
   ]
  },
  {
   "cell_type": "code",
   "execution_count": 490,
   "metadata": {},
   "outputs": [
    {
     "name": "stdout",
     "output_type": "stream",
     "text": [
      "(212, 36835, 17984, 15921, 18498, 24417, 39311)\n",
      "(170, 61152, 45120, 21589, 18498, 24417, 39311)\n",
      "(208, 31646, 22593, 15654, 18498, 24417, 39311)\n",
      "(250, 32598, 30785, 15222, 18498, 24417, 39311)\n",
      "(234, 63935, 48704, 7070, 41026, 32641, 39309)\n",
      "(240, 63642, 49728, 7019, 41026, 32641, 39309)\n",
      "(234, 63935, 47680, 7130, 41026, 32641, 39309)\n",
      "(162, 61445, 43840, 7331, 41026, 32641, 39309)\n",
      "(78, 59541, 33088, 7925, 18498, 24417, 39311)\n"
     ]
    }
   ],
   "source": [
    "for p in packs:\n",
    "    psu('<B6H',p)"
   ]
  },
  {
   "cell_type": "markdown",
   "metadata": {},
   "source": [
    "```\n",
    "ec 87 82 41 be a1 29\n",
    "2b d1 82 41 be 9b 29\n",
    "2e b2 92 41 32 48 96\n",
    "```"
   ]
  },
  {
   "cell_type": "code",
   "execution_count": 512,
   "metadata": {},
   "outputs": [],
   "source": [
    "packs = [b'\\xec\\x87\\x82\\x41\\xbe\\xa1\\x29',\n",
    "b'\\x2b\\xd1\\x82\\x41\\xbe\\x9b\\x29',\n",
    "b'\\x2e\\xb2\\x92\\x41\\x32\\x48\\x96',\n",
    "b'\\xaf\\x89\\x87\\x41\\x08\\x8b\\xc2',\n",
    "        ] # 7 bytes"
   ]
  },
  {
   "cell_type": "code",
   "execution_count": 567,
   "metadata": {},
   "outputs": [],
   "source": [
    "packs = [b'\\xaf\\x89\\x87\\x41\\x08\\x8b\\xc2',\n",
    "b'\\x46\\x88\\x83\\x41\\xac\\x94\\xab',\n",
    "b'\\xdf\\xd1\\x84\\x41\\x52\\x7d\\x9b',\n",
    "        b'\\x0f\\x1a\\x82\\x41\\x0c\\x5b\\x6b',\n",
    "        b'\\xd7\\xab\\x80\\x41\\x4a\\xf2\\x4b']"
   ]
  },
  {
   "cell_type": "code",
   "execution_count": 584,
   "metadata": {},
   "outputs": [
    {
     "name": "stdout",
     "output_type": "stream",
     "text": [
      "(175, 137, 135, 65, 8, 139, 194)\n",
      "(70, 136, 131, 65, 172, 148, 171)\n",
      "(223, 209, 132, 65, 82, 125, 155)\n",
      "(15, 26, 130, 65, 12, 91, 107)\n",
      "(215, 171, 128, 65, 74, 242, 75)\n"
     ]
    }
   ],
   "source": [
    "for p in packs:\n",
    "    psu('<7B',p)"
   ]
  },
  {
   "cell_type": "code",
   "execution_count": 569,
   "metadata": {},
   "outputs": [
    {
     "name": "stdout",
     "output_type": "stream",
     "text": [
      "(175, 34697, 65, 8, 139, 194)\n",
      "(70, 33672, 65, 172, 148, 171)\n",
      "(223, 34001, 65, 82, 125, 155)\n",
      "(15, 33306, 65, 12, 91, 107)\n",
      "(215, 32939, 65, 74, 242, 75)\n"
     ]
    }
   ],
   "source": [
    "for p in packs:\n",
    "    psu('<BH4B',p)"
   ]
  },
  {
   "cell_type": "code",
   "execution_count": 570,
   "metadata": {},
   "outputs": [
    {
     "name": "stdout",
     "output_type": "stream",
     "text": [
      "(175, 137, 135, 2113, 139, 194)\n",
      "(70, 136, 131, 44097, 148, 171)\n",
      "(223, 209, 132, 21057, 125, 155)\n",
      "(15, 26, 130, 3137, 91, 107)\n",
      "(215, 171, 128, 19009, 242, 75)\n"
     ]
    }
   ],
   "source": [
    "for p in packs:\n",
    "    psu('<3BH2B',p)"
   ]
  },
  {
   "cell_type": "code",
   "execution_count": 571,
   "metadata": {},
   "outputs": [
    {
     "name": "stdout",
     "output_type": "stream",
     "text": [
      "(175, 137, 135, 65, 35592, 194)\n",
      "(70, 136, 131, 65, 38060, 171)\n",
      "(223, 209, 132, 65, 32082, 155)\n",
      "(15, 26, 130, 65, 23308, 107)\n",
      "(215, 171, 128, 65, 62026, 75)\n"
     ]
    }
   ],
   "source": [
    "for p in packs:\n",
    "    psu('<4BHB',p)"
   ]
  },
  {
   "cell_type": "code",
   "execution_count": 572,
   "metadata": {},
   "outputs": [
    {
     "name": "stdout",
     "output_type": "stream",
     "text": [
      "(175, 34697, 2113, 49803)\n",
      "(70, 33672, 44097, 43924)\n",
      "(223, 34001, 21057, 39805)\n",
      "(15, 33306, 3137, 27483)\n",
      "(215, 32939, 19009, 19442)\n"
     ]
    }
   ],
   "source": [
    "for p in packs:\n",
    "    psu('<B3H',p)"
   ]
  },
  {
   "cell_type": "code",
   "execution_count": 573,
   "metadata": {},
   "outputs": [
    {
     "data": {
      "text/plain": [
       "0.08333333333333327"
      ]
     },
     "execution_count": 573,
     "metadata": {},
     "output_type": "execute_result"
    }
   ],
   "source": [
    "(0.84-0.77)/0.84"
   ]
  },
  {
   "cell_type": "code",
   "execution_count": 539,
   "metadata": {},
   "outputs": [
    {
     "data": {
      "text/plain": [
       "43108.814999999995"
      ]
     },
     "execution_count": 539,
     "metadata": {},
     "output_type": "execute_result"
    }
   ],
   "source": [
    "1.083 * 39805"
   ]
  },
  {
   "cell_type": "code",
   "execution_count": 551,
   "metadata": {},
   "outputs": [
    {
     "data": {
      "text/plain": [
       "0.23938223938223943"
      ]
     },
     "execution_count": 551,
     "metadata": {},
     "output_type": "execute_result"
    }
   ],
   "source": [
    "(0.777-0.591)/0.777"
   ]
  },
  {
   "cell_type": "code",
   "execution_count": 552,
   "metadata": {},
   "outputs": [
    {
     "data": {
      "text/plain": [
       "34051.437000000005"
      ]
     },
     "execution_count": 552,
     "metadata": {},
     "output_type": "execute_result"
    }
   ],
   "source": [
    "1.239 * 27483"
   ]
  },
  {
   "cell_type": "code",
   "execution_count": 574,
   "metadata": {},
   "outputs": [
    {
     "name": "stdout",
     "output_type": "stream",
     "text": [
      "(35247, 16775, 35592, 194)\n",
      "(34886, 16771, 38060, 171)\n",
      "(53727, 16772, 32082, 155)\n",
      "(6671, 16770, 23308, 107)\n",
      "(43991, 16768, 62026, 75)\n"
     ]
    }
   ],
   "source": [
    "for p in packs:\n",
    "    psu('<3HB',p)"
   ]
  },
  {
   "cell_type": "code",
   "execution_count": 575,
   "metadata": {},
   "outputs": [
    {
     "name": "stdout",
     "output_type": "stream",
     "text": [
      "(35247, 16775, 8, 49803)\n",
      "(34886, 16771, 172, 43924)\n",
      "(53727, 16772, 82, 39805)\n",
      "(6671, 16770, 12, 27483)\n",
      "(43991, 16768, 74, 19442)\n"
     ]
    }
   ],
   "source": [
    "for p in packs:\n",
    "    psu('<2HBH',p)"
   ]
  },
  {
   "cell_type": "code",
   "execution_count": 576,
   "metadata": {},
   "outputs": [
    {
     "name": "stdout",
     "output_type": "stream",
     "text": [
      "(35247, 135, 2113, 49803)\n",
      "(34886, 131, 44097, 43924)\n",
      "(53727, 132, 21057, 39805)\n",
      "(6671, 130, 3137, 27483)\n",
      "(43991, 128, 19009, 19442)\n"
     ]
    }
   ],
   "source": [
    "for p in packs:\n",
    "    psu('<HB2H',p)"
   ]
  },
  {
   "cell_type": "code",
   "execution_count": 577,
   "metadata": {},
   "outputs": [
    {
     "name": "stdout",
     "output_type": "stream",
     "text": [
      "(175, 34697, 2113, 49803)\n",
      "(70, 33672, 44097, 43924)\n",
      "(223, 34001, 21057, 39805)\n",
      "(15, 33306, 3137, 27483)\n",
      "(215, 32939, 19009, 19442)\n"
     ]
    }
   ],
   "source": [
    "for p in packs:\n",
    "    psu('<B3H',p)"
   ]
  },
  {
   "cell_type": "code",
   "execution_count": 578,
   "metadata": {},
   "outputs": [
    {
     "data": {
      "text/plain": [
       "17000.5"
      ]
     },
     "execution_count": 578,
     "metadata": {},
     "output_type": "execute_result"
    }
   ],
   "source": [
    "34001/2"
   ]
  },
  {
   "cell_type": "code",
   "execution_count": 564,
   "metadata": {},
   "outputs": [
    {
     "data": {
      "text/plain": [
       "39312"
      ]
     },
     "execution_count": 564,
     "metadata": {},
     "output_type": "execute_result"
    }
   ],
   "source": [
    "0x9990"
   ]
  },
  {
   "cell_type": "code",
   "execution_count": 579,
   "metadata": {},
   "outputs": [],
   "source": [
    "from bitstring import BitArray"
   ]
  },
  {
   "cell_type": "code",
   "execution_count": 583,
   "metadata": {},
   "outputs": [
    {
     "name": "stdout",
     "output_type": "stream",
     "text": [
      "10101111100010011000011101000001000010001000101111000010\n",
      "01000110100010001000001101000001101011001001010010101011\n",
      "11011111110100011000010001000001010100100111110110011011\n",
      "00001111000110101000001001000001000011000101101101101011\n",
      "11010111101010111000000001000001010010101111001001001011\n"
     ]
    }
   ],
   "source": [
    "for p in packs:\n",
    "    print(BitArray(p).bin)"
   ]
  },
  {
   "cell_type": "code",
   "execution_count": 582,
   "metadata": {},
   "outputs": [
    {
     "data": {
      "text/plain": [
       "BitArray('0xd7ab80414af24b')"
      ]
     },
     "execution_count": 582,
     "metadata": {},
     "output_type": "execute_result"
    }
   ],
   "source": [
    "BitArray(p)"
   ]
  },
  {
   "cell_type": "code",
   "execution_count": 585,
   "metadata": {},
   "outputs": [
    {
     "data": {
      "text/plain": [
       "39311"
      ]
     },
     "execution_count": 585,
     "metadata": {},
     "output_type": "execute_result"
    }
   ],
   "source": [
    "0x998f"
   ]
  },
  {
   "cell_type": "code",
   "execution_count": 591,
   "metadata": {},
   "outputs": [
    {
     "data": {
      "text/plain": [
       "(12422, 17309)"
      ]
     },
     "execution_count": 591,
     "metadata": {},
     "output_type": "execute_result"
    }
   ],
   "source": [
    "struct.unpack('<HH',b'\\x86\\x30\\x9d\\x43')"
   ]
  },
  {
   "cell_type": "code",
   "execution_count": null,
   "metadata": {},
   "outputs": [],
   "source": [
    "19 19 91 43"
   ]
  }
 ],
 "metadata": {
  "kernelspec": {
   "display_name": "Python 3",
   "language": "python",
   "name": "python3"
  },
  "language_info": {
   "codemirror_mode": {
    "name": "ipython",
    "version": 3
   },
   "file_extension": ".py",
   "mimetype": "text/x-python",
   "name": "python",
   "nbconvert_exporter": "python",
   "pygments_lexer": "ipython3",
   "version": "3.8.6"
  }
 },
 "nbformat": 4,
 "nbformat_minor": 4
}
